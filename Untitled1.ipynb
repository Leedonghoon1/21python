{
  "nbformat": 4,
  "nbformat_minor": 0,
  "metadata": {
    "colab": {
      "name": "Untitled1.ipynb",
      "provenance": [],
      "authorship_tag": "ABX9TyMZyKfSWUR9dF+iWgMyqtqv",
      "include_colab_link": true
    },
    "kernelspec": {
      "name": "python3",
      "display_name": "Python 3"
    },
    "language_info": {
      "name": "python"
    }
  },
  "cells": [
    {
      "cell_type": "markdown",
      "metadata": {
        "id": "view-in-github",
        "colab_type": "text"
      },
      "source": [
        "<a href=\"https://colab.research.google.com/github/Leedonghoon1/21python/blob/main/Untitled1.ipynb\" target=\"_parent\"><img src=\"https://colab.research.google.com/assets/colab-badge.svg\" alt=\"Open In Colab\"/></a>"
      ]
    },
    {
      "cell_type": "markdown",
      "metadata": {
        "id": "12yfc5EgfTc3"
      },
      "source": [
        "##**학습목표**\n",
        "- 조건문의 이해와 활용"
      ]
    },
    {
      "cell_type": "markdown",
      "metadata": {
        "id": "vA8DZWkiflwL"
      },
      "source": [
        "##**조건문**\n",
        "- 특정 조건을 만족하는 경우에 수행할 작업을 만들 때 사용\n",
        "- 참,거짓으로 표현된다\n",
        "- if, elif, else 키워드 사용\n",
        "- 조건문의 경우, 들여쓰기로 하나의 블록을 만들고 여러 종속된 코드를 사용해 중첩 코드가 가능\n",
        "- `블록(block)`:들여쓰기 된 코드\n",
        "- 모든 블록의 시작과 마지막에는 :(콜론:colon)이 필요"
      ]
    },
    {
      "cell_type": "code",
      "metadata": {
        "colab": {
          "base_uri": "https://localhost:8080/"
        },
        "id": "rjgR5HmvgRh_",
        "outputId": "ad9dd9c6-aeb4-4c8e-ad9b-942e0bbde120"
      },
      "source": [
        "if 120>100>20 :\n",
        "  print('참입니다')\n",
        "else :\n",
        "  print('거짓입니다')"
      ],
      "execution_count": 1,
      "outputs": [
        {
          "output_type": "stream",
          "name": "stdout",
          "text": [
            "참입니다\n"
          ]
        }
      ]
    },
    {
      "cell_type": "markdown",
      "metadata": {
        "id": "vheLvTwxgTXE"
      },
      "source": [
        "### if, else\n",
        "- if가 아닌 경우, 나머지 조건을 표현하고 싶을 때\n",
        "- if 조건이 참(true)이면, if 블록 안의 코드가 수행\n",
        "  - 거짓(false)인 경우, else 블록 안의 코드가 수행\n",
        "  - `주의!` if와 else 사이에는 다른 코드가 삽입 불가"
      ]
    },
    {
      "cell_type": "code",
      "metadata": {
        "colab": {
          "base_uri": "https://localhost:8080/"
        },
        "id": "N6DwLYqhhADH",
        "outputId": "d0d40b3b-3ae5-4b3f-8117-41e8d6ba2424"
      },
      "source": [
        "# 어떤 수에 대해 짝수인 경우 \"짝수!\"를 출력,\n",
        "# 홀수인 경우 \"홀수!\"를 출력하는 프로그램을 작성하시오.\n",
        "\n",
        "a = 100\n",
        "\n",
        "if a % 2 == 0 : #나머지가 0인 경우\n",
        "  print(\"짝수!\")\n",
        "else:\n",
        "  print(\"홀수!\")"
      ],
      "execution_count": 3,
      "outputs": [
        {
          "output_type": "stream",
          "name": "stdout",
          "text": [
            "짝수!\n"
          ]
        }
      ]
    },
    {
      "cell_type": "markdown",
      "metadata": {
        "id": "bu20i6lSnSrb"
      },
      "source": [
        "##**if,elif,else**\n",
        "- 조건이 여러개인 경우, 해당 조건을 elif 블록에서 명시\n",
        "- 각 조건을 확인후, true 조건의 코드 블럭을 실행을 한 후에 전체 구문을 종료 "
      ]
    },
    {
      "cell_type": "code",
      "metadata": {
        "colab": {
          "base_uri": "https://localhost:8080/"
        },
        "id": "CV0wjByNoFpN",
        "outputId": "6d396574-8107-4164-dac8-5f5229dba6a7"
      },
      "source": [
        "# 이번 점수에 대해 90점 이상이면 A, 80점 이상이면 B,\n",
        "# 70점 이상이면 C, 60점 이상이면 D, 나머지는 F인 프로그램을 작성하시오.\n",
        "# 단, 100점인 경우, 성적이 A이며, 동시에 선물을 증정하도록 하시오\n",
        "score = 100\n",
        "\n",
        "if score == 100 :\n",
        "  print(\"선물 증정\")\n",
        "  if score >= 90 :\n",
        "    print(\"성적: A\")\n",
        "\n",
        "elif score >= 80 :\n",
        "  print(\"성적 : B\")\n",
        "elif score >= 70 :\n",
        "  print(\"성적 : B\")\n",
        "elif score >= 60 :\n",
        "  print(\"성적 : D\")\n",
        "else :\n",
        "  print(\"성적 : F\")\n",
        "print(\"수고하셨습니다.\")"
      ],
      "execution_count": 11,
      "outputs": [
        {
          "output_type": "stream",
          "name": "stdout",
          "text": [
            "선물 증정\n",
            "성적: A\n",
            "수고하셨습니다.\n"
          ]
        }
      ]
    }
  ]
}