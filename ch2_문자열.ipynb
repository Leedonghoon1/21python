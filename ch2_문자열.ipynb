{
  "nbformat": 4,
  "nbformat_minor": 0,
  "metadata": {
    "colab": {
      "name": "Untitled0.ipynb",
      "provenance": [],
      "authorship_tag": "ABX9TyPBLCJu0nuNeIuuocajN6bf",
      "include_colab_link": true
    },
    "kernelspec": {
      "name": "python3",
      "display_name": "Python 3"
    },
    "language_info": {
      "name": "python"
    }
  },
  "cells": [
    {
      "cell_type": "markdown",
      "metadata": {
        "id": "view-in-github",
        "colab_type": "text"
      },
      "source": [
        "<a href=\"https://colab.research.google.com/github/Leedonghoon1/21python/blob/main/ch2_%EB%AC%B8%EC%9E%90%EC%97%B4.ipynb\" target=\"_parent\"><img src=\"https://colab.research.google.com/assets/colab-badge.svg\" alt=\"Open In Colab\"/></a>"
      ]
    },
    {
      "cell_type": "markdown",
      "metadata": {
        "id": "eBuSknDJEOIU"
      },
      "source": [
        "##**학습목표**\n",
        "\n",
        "문자열(str)타입을 이해하기"
      ]
    },
    {
      "cell_type": "markdown",
      "metadata": {
        "id": "7WW_iTxMEk8D"
      },
      "source": [
        "##**문자열(string)**\n",
        "- 여러 개의 문자를 순서대로 나열한 것\n",
        "- 문자열은 '(작은따옴표)' 혹은 \"(큰 따옴표)\" 사이에 문자를 넣어서 생성\n",
        "- 문자열 자체에 \",'가 있을 경우,"
      ]
    },
    {
      "cell_type": "code",
      "metadata": {
        "colab": {
          "base_uri": "https://localhost:8080/"
        },
        "id": "l25L8LTDE32C",
        "outputId": "363130cb-62fd-4ede-bd57-00bf10f09805"
      },
      "source": [
        "a = \"Hello world\"\n",
        "b = \" 'Hello' world\" \n",
        "\n",
        "print(a)\n",
        "print(b)"
      ],
      "execution_count": 1,
      "outputs": [
        {
          "output_type": "stream",
          "text": [
            "Hello world\n",
            " 'Hello' world\n"
          ],
          "name": "stdout"
        }
      ]
    },
    {
      "cell_type": "markdown",
      "metadata": {
        "id": "30M10CB9FXus"
      },
      "source": [
        "##**이스케이프(escape) 문자**\n",
        "\n",
        "- 분자열 내의 문자의 의미를 달리하여 특정한 효과\n",
        "- Enter, tab\n",
        "\n",
        "- `\\n`:Enter, 새로운 줄(다음줄)\n",
        "- `\\t`:tap"
      ]
    },
    {
      "cell_type": "code",
      "metadata": {
        "colab": {
          "base_uri": "https://localhost:8080/"
        },
        "id": "22yZHEvTGW7y",
        "outputId": "141d7d33-8a42-4b2f-839b-1e8d55d37f08"
      },
      "source": [
        "print(\"안녕하세요. \\n제 이름은 \\t이동훈 입니다. \\n직업은 \\t 학생 입니다.\")"
      ],
      "execution_count": 3,
      "outputs": [
        {
          "output_type": "stream",
          "text": [
            "안녕하세요. \n",
            "제 이름은 \t이동훈 입니다. \n",
            "직업은 \t 학생 입니다.\n"
          ],
          "name": "stdout"
        }
      ]
    },
    {
      "cell_type": "markdown",
      "metadata": {
        "id": "v_rKtXQgHB-E"
      },
      "source": [
        "##**문자열의 인덱스 및 추출**\n",
        "- 문자열의 각 문자는 순서가 있음 : `인덱스`\n",
        "- 인덱스 표현은 ?[]\n",
        "- 첫번째 문자부터 마지막까지 차례대로 순서를 가짐\n",
        "- 시작은 0! (1 X)"
      ]
    },
    {
      "cell_type": "code",
      "metadata": {
        "colab": {
          "base_uri": "https://localhost:8080/"
        },
        "id": "ffeFxA3HIA5R",
        "outputId": "cc709bd2-3290-4d38-eec2-23f49d6cad47"
      },
      "source": [
        "a = \"Hello World!\"# 번호는 0번~11번까지, 길이는 12\n",
        "print(a[0], a[4], a[5])"
      ],
      "execution_count": 19,
      "outputs": [
        {
          "output_type": "stream",
          "text": [
            "H o  \n"
          ],
          "name": "stdout"
        }
      ]
    },
    {
      "cell_type": "markdown",
      "metadata": {
        "id": "vPPpYmAJIQdE"
      },
      "source": [
        "## **-1인덱스**\n",
        "- 다른 언어와 달리 python은 음수의 인덱스를 지원\n",
        "- -1이 가장 마지막 인덱스,-2는 마지막에서 두번쨰 인덱스"
      ]
    },
    {
      "cell_type": "code",
      "metadata": {
        "colab": {
          "base_uri": "https://localhost:8080/"
        },
        "id": "jBpCtPRhIsMi",
        "outputId": "3c56dbf0-a4ed-4349-e138-8ebffbdc1b92"
      },
      "source": [
        "#a = \"Hello World!\n",
        "\n",
        "print(a[-1], a[-3], a[-12],) #a[12]부터, a[-13]부터는 범위를 벗어나서 예리!"
      ],
      "execution_count": 5,
      "outputs": [
        {
          "output_type": "stream",
          "text": [
            "! l H !\n"
          ],
          "name": "stdout"
        }
      ]
    },
    {
      "cell_type": "code",
      "metadata": {
        "colab": {
          "base_uri": "https://localhost:8080/"
        },
        "id": "ZZHQTlYzQQlv",
        "outputId": "e4c5eb8c-ae26-400e-c44c-dd1cc4a25998"
      },
      "source": [
        "#a = \"Hello World!\"\\\n",
        "print(a.upper())\n",
        "print(a.lower())\n",
        "print(a.replace('H','J'))\n",
        "print(a.replace('ello','I'))\n",
        "print(len(a))\n",
        "print(a. count('l'))\n",
        "\n",
        "print(a.find('w'))\n",
        "print(a.index('W'))\n",
        "\n",
        "b = \"!\".join(a)\n",
        "print(b)"
      ],
      "execution_count": 21,
      "outputs": [
        {
          "output_type": "stream",
          "text": [
            "HELLO WORLD!\n",
            "hello world!\n",
            "Jello World!\n",
            "HI World!\n",
            "12\n",
            "3\n",
            "-1\n",
            "6\n",
            "H!e!l!l!o! !W!o!r!l!d!!\n"
          ],
          "name": "stdout"
        }
      ]
    },
    {
      "cell_type": "markdown",
      "metadata": {
        "id": "b81qVa0NSu5G"
      },
      "source": [
        "##**format**\n",
        "- 문자열내의 특정한 값을 변수로부터\n",
        "초기화하여 동적으로 문자열을 생성"
      ]
    },
    {
      "cell_type": "code",
      "metadata": {
        "colab": {
          "base_uri": "https://localhost:8080/"
        },
        "id": "GfICHqQKS6YL",
        "outputId": "f07fcec0-4731-4b20-fd85-3b520a182753"
      },
      "source": [
        "temp = 23\n",
        "per = 70\n",
        "\n",
        "a='현재 기온은 {}도 이고, 비율 확률은 {}입니다.'.format(temp,per)\n",
        "print(a)\n",
        "\n",
        "cla = 3\n",
        "#b=\n",
        "f'현재 프로그래밍 시간은 {cla}교시다.'\n"
      ],
      "execution_count": 24,
      "outputs": [
        {
          "output_type": "stream",
          "text": [
            "현재 기온은 23도 이고, 비율 확률은 70입니다.\n"
          ],
          "name": "stdout"
        }
      ]
    },
    {
      "cell_type": "markdown",
      "metadata": {
        "id": "RcYApWfNVum3"
      },
      "source": [
        "##**split**\n",
        "- 문자열을 특정한 문자로 구분하여 치환\n"
      ]
    },
    {
      "cell_type": "code",
      "metadata": {
        "colab": {
          "base_uri": "https://localhost:8080/"
        },
        "id": "ST1GSQyZV4sV",
        "outputId": "77f803ff-c3a3-45e6-97df-b50c5bb5f800"
      },
      "source": [
        "a = 'what a wonder ful day. nice weather!'\n",
        "a.split('w')"
      ],
      "execution_count": 25,
      "outputs": [
        {
          "output_type": "execute_result",
          "data": {
            "text/plain": [
              "['', 'hat a ', 'onder ful day. nice ', 'eather!']"
            ]
          },
          "metadata": {},
          "execution_count": 25
        }
      ]
    }
  ]
}