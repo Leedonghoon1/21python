{
  "nbformat": 4,
  "nbformat_minor": 0,
  "metadata": {
    "colab": {
      "name": "데이터타입.ipynb",
      "provenance": [],
      "authorship_tag": "ABX9TyNknOxxa1qus22/c9T6v11M",
      "include_colab_link": true
    },
    "kernelspec": {
      "name": "python3",
      "display_name": "Python 3"
    },
    "language_info": {
      "name": "python"
    }
  },
  "cells": [
    {
      "cell_type": "markdown",
      "metadata": {
        "id": "view-in-github",
        "colab_type": "text"
      },
      "source": [
        "<a href=\"https://colab.research.google.com/github/Leedonghoon1/21python/blob/main/%EB%8D%B0%EC%9D%B4%ED%84%B0%ED%83%80%EC%9E%85.ipynb\" target=\"_parent\"><img src=\"https://colab.research.google.com/assets/colab-badge.svg\" alt=\"Open In Colab\"/></a>"
      ]
    },
    {
      "cell_type": "markdown",
      "metadata": {
        "id": "SVGKIoZd8uay"
      },
      "source": [
        "## **학습목표**\n",
        "- 리스트(list)와 튜플(tuple)에 대해 이해하기\n",
        "- 딕셔너리(dict)와 셋(set)에 대해 이해하기"
      ]
    },
    {
      "cell_type": "markdown",
      "metadata": {
        "id": "f60utj1X89bL"
      },
      "source": [
        "### **리스트(list)와 튜플(tuple)**\n",
        "- 여러 개의 값을 담을 수 있는 데이터 구조\n",
        "- list : 생성한 후에 변경이 가능\n",
        "- tuple: 생성한 후 변경 불가능"
      ]
    },
    {
      "cell_type": "code",
      "metadata": {
        "colab": {
          "base_uri": "https://localhost:8080/"
        },
        "id": "pg_drvV39wzY",
        "outputId": "2446c98f-3ec3-450b-a454-9aa456ebb4b7"
      },
      "source": [
        "a = ['컴네', 'A', '1학년', 10, 20, [2, 3]]\n",
        "print(a)"
      ],
      "execution_count": null,
      "outputs": [
        {
          "output_type": "stream",
          "name": "stdout",
          "text": [
            "['컴네', 'A', '1학년', 10, 20, [2, 3]]\n"
          ]
        }
      ]
    },
    {
      "cell_type": "code",
      "metadata": {
        "colab": {
          "base_uri": "https://localhost:8080/"
        },
        "id": "FfUHzi70-JRQ",
        "outputId": "85412619-f1be-4ffa-8180-364c45d976a2"
      },
      "source": [
        "a = \"hello comnet A!\"\n",
        "b = list(a)\n",
        "print(b) #list()함수로 리스트 생성\n",
        "# 다른 타입(문자열)을 리스트로 변환할 때 사용 가능\n",
        "\n",
        "c = a.split() #문자열의 공백을 기준으로 리스트를 생성\n",
        "d = a.split('I') #구분자(매개변수) 기준\n",
        "\n",
        "print(b)\n",
        "print(c)\n",
        "print(d)"
      ],
      "execution_count": null,
      "outputs": [
        {
          "output_type": "stream",
          "name": "stdout",
          "text": [
            "['h', 'e', 'l', 'l', 'o', ' ', 'c', 'o', 'm', 'n', 'e', 't', ' ', 'A', '!']\n",
            "['h', 'e', 'l', 'l', 'o', ' ', 'c', 'o', 'm', 'n', 'e', 't', ' ', 'A', '!']\n",
            "['hello', 'comnet', 'A!']\n",
            "['he', '', 'o comnet A!']\n"
          ]
        }
      ]
    },
    {
      "cell_type": "markdown",
      "metadata": {
        "id": "xVWNlJMVAGMj"
      },
      "source": [
        "##**리스트 indexting**\n",
        "\n",
        "- [] 연산자를 이용해 항목을 가져온다.\n",
        "- [I] : i번째 원소를 반환한다.\n",
        "- i가 음수면, 마지막 원소에서 -1로 하여 가져온다."
      ]
    },
    {
      "cell_type": "code",
      "metadata": {
        "colab": {
          "base_uri": "https://localhost:8080/"
        },
        "id": "b_uZi6MSAiYX",
        "outputId": "72ca5d8c-0a75-456c-9dd7-60803bc25c2d"
      },
      "source": [
        "a = [1, 2, 3, 4, 5, 6, 7, 8, 9 ,10]\n",
        "print(a[0], a[2])\n",
        "print(a[-1], a[-3], a[-9])\n",
        "print(a[9])"
      ],
      "execution_count": null,
      "outputs": [
        {
          "output_type": "stream",
          "name": "stdout",
          "text": [
            "1 3\n",
            "10 8 2\n",
            "10\n"
          ]
        }
      ]
    },
    {
      "cell_type": "code",
      "metadata": {
        "id": "l_2PktNSBfcI"
      },
      "source": [
        ""
      ],
      "execution_count": null,
      "outputs": []
    },
    {
      "cell_type": "markdown",
      "metadata": {
        "id": "Cwy7JzRvWev9"
      },
      "source": [
        "### ** in 키워드**\n",
        "- 리스트 내에 해당 값이 존재하는지\n",
        "- True, False 중 한가지로 반환\n",
        "- 값 in [list]"
      ]
    },
    {
      "cell_type": "code",
      "metadata": {
        "colab": {
          "base_uri": "https://localhost:8080/"
        },
        "id": "cKbDHZ6TXp2B",
        "outputId": "25d8709f-76e3-4201-c429-8024ad8c0c81"
      },
      "source": [
        "a = [1,2,3,4,5,6,7]\n",
        "b = 5\n",
        "c = 10\n",
        "d = b in a\n",
        "\n",
        "print(d)\n",
        "print(c in a)"
      ],
      "execution_count": null,
      "outputs": [
        {
          "output_type": "stream",
          "name": "stdout",
          "text": [
            "True\n",
            "False\n"
          ]
        }
      ]
    },
    {
      "cell_type": "markdown",
      "metadata": {
        "id": "xufgAyRVZJ-B"
      },
      "source": [
        "**list 정렬**\n",
        "- sort() : 리스트 자체를 내부적으로 정렬\n",
        "- sorted(): 정렬된 리스트의 복사본을 반환"
      ]
    },
    {
      "cell_type": "code",
      "metadata": {
        "colab": {
          "base_uri": "https://localhost:8080/"
        },
        "id": "HzbYeQH6ZZNP",
        "outputId": "66e7b9fa-8065-4c61-b632-85a43461ccd7"
      },
      "source": [
        "a = [9, 2, 7, 8, 97, 28, 67, 75]\n",
        "b = sorted(a)\n",
        "print(a)\n",
        "\n",
        "a.sort(reverse=True)\n",
        "print(a)\n",
        "print(b)"
      ],
      "execution_count": null,
      "outputs": [
        {
          "output_type": "stream",
          "name": "stdout",
          "text": [
            "[9, 2, 7, 8, 97, 28, 67, 75]\n",
            "[97, 75, 67, 28, 9, 8, 7, 2]\n",
            "[2, 7, 8, 9, 28, 67, 75, 97]\n"
          ]
        }
      ]
    },
    {
      "cell_type": "markdown",
      "metadata": {
        "id": "funDrQIvaSqk"
      },
      "source": [
        "## **튜플(Tuple)**\n",
        "- 리스트와 같이 여러 개의 값을 갖는 데이터 컬렉션 타임\n",
        "- 생성된 후 변경이 불가능"
      ]
    },
    {
      "cell_type": "code",
      "metadata": {
        "colab": {
          "base_uri": "https://localhost:8080/"
        },
        "id": "dKS4DwsSbCPK",
        "outputId": "73a5d299-e6b8-4b5f-a7c5-44954c304064"
      },
      "source": [
        "a = [1,2,3]\n",
        "b = (1,2,3,)\n",
        "\n",
        "print(type(a))\n",
        "print(type(b))\n",
        "\n",
        "a[0]= 100\n",
        "print(a)\n",
        "#b[0]=100은 오류!\n",
        "#print(b)"
      ],
      "execution_count": null,
      "outputs": [
        {
          "output_type": "stream",
          "name": "stdout",
          "text": [
            "<class 'list'>\n",
            "<class 'tuple'>\n",
            "[100, 2, 3]\n"
          ]
        }
      ]
    },
    {
      "cell_type": "code",
      "metadata": {
        "colab": {
          "base_uri": "https://localhost:8080/"
        },
        "id": "KP56BNw-bi7y",
        "outputId": "47717062-3fa7-4bc6-a156-d0639319a651"
      },
      "source": [
        "a,b,c,d = 10, 20, 30, 40\n",
        "print(a,b,c,d)"
      ],
      "execution_count": null,
      "outputs": [
        {
          "output_type": "stream",
          "name": "stdout",
          "text": [
            "10 20 30 40\n"
          ]
        }
      ]
    },
    {
      "cell_type": "code",
      "metadata": {
        "colab": {
          "base_uri": "https://localhost:8080/"
        },
        "id": "Lfe1s42ecGqi",
        "outputId": "cc368447-5051-4271-a41f-ae405629a534"
      },
      "source": [
        "a = 5\n",
        "b = 4\n",
        "\n",
        "#문제! a,b의 값을 교환하십시오.\n",
        "#temp = a\n",
        "#a = b\n",
        "#b = temp\n",
        "print(a,b)\n",
        "a, b = b, a\n",
        "print(a, b)"
      ],
      "execution_count": null,
      "outputs": [
        {
          "output_type": "stream",
          "name": "stdout",
          "text": [
            "5 4\n",
            "4 5\n"
          ]
        }
      ]
    },
    {
      "cell_type": "code",
      "metadata": {
        "id": "f7y70qLycH2B"
      },
      "source": [
        ""
      ],
      "execution_count": null,
      "outputs": []
    }
  ]
}