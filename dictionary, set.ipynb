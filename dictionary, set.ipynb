{
  "nbformat": 4,
  "nbformat_minor": 0,
  "metadata": {
    "colab": {
      "name": "Untitled2.ipynb의 사본",
      "provenance": [],
      "authorship_tag": "ABX9TyPwtm5EqzLHmLLVX55RSarV",
      "include_colab_link": true
    },
    "kernelspec": {
      "name": "python3",
      "display_name": "Python 3"
    },
    "language_info": {
      "name": "python"
    }
  },
  "cells": [
    {
      "cell_type": "markdown",
      "metadata": {
        "id": "view-in-github",
        "colab_type": "text"
      },
      "source": [
        "<a href=\"https://colab.research.google.com/github/Leedonghoon1/21python/blob/main/dictionary%2C%20set.ipynb\" target=\"_parent\"><img src=\"https://colab.research.google.com/assets/colab-badge.svg\" alt=\"Open In Colab\"/></a>"
      ]
    },
    {
      "cell_type": "code",
      "metadata": {
        "id": "8tdHVl5Rq-gg"
      },
      "source": [
        ""
      ],
      "execution_count": null,
      "outputs": []
    },
    {
      "cell_type": "markdown",
      "metadata": {
        "id": "8Q2edOOhyarh"
      },
      "source": [
        "#학습목표\n",
        "- dictionary. set에대해 이해하기"
      ]
    },
    {
      "cell_type": "markdown",
      "metadata": {
        "id": "hP1M0nsCypyu"
      },
      "source": [
        "dictionary\n",
        "- 키와 값을 갖는 데이터 구조\n",
        "- 키는 내부적으로 hash값으로 저장\n",
        "- 순서를 따지지 않음."
      ]
    },
    {
      "cell_type": "code",
      "metadata": {
        "colab": {
          "base_uri": "https://localhost:8080/"
        },
        "id": "40p206ekzUEN",
        "outputId": "8cc2460c-9d50-4b7c-a0aa-1671dfc0287c"
      },
      "source": [
        "a = {'Korea': 'Seoul',\n",
        "     'Canada': 'Ottawa',\n",
        "     'USA': 'Washington D.C'}\n",
        "b = {0:1, 1:6, 7:9, 8:10}\n",
        "\n",
        "print(a['Korea'])\n",
        "#print(a['Japan'])\n",
        "print(b[0])\n",
        "#print(b[3])"
      ],
      "execution_count": null,
      "outputs": [
        {
          "output_type": "stream",
          "name": "stdout",
          "text": [
            "Seoul\n",
            "1\n"
          ]
        }
      ]
    },
    {
      "cell_type": "markdown",
      "metadata": {
        "id": "k1Ei69bs0OAW"
      },
      "source": [
        "### **항목 추가 및 변경**\n",
        "- 기존에 키가 존재하면, 새로운 값으로 업데이트\n",
        "- 기존에 키가 존재하지 않으면 새로운 키 값으로 생성"
      ]
    },
    {
      "cell_type": "code",
      "metadata": {
        "id": "VICcfQTG07-s"
      },
      "source": [
        "a['Japan'] = 'Tokyo'\n",
        "a['Japan'] = 'Osaka'\n",
        "a['China'] = 'Beijing'"
      ],
      "execution_count": null,
      "outputs": []
    },
    {
      "cell_type": "markdown",
      "metadata": {
        "id": "NDdWyVAZ1eRe"
      },
      "source": [
        "- update()\n",
        "  - 두 딕셔너리를 병합\n",
        "  - 겹치는 키가 있다면, 전달되는 값이 업데이트된다"
      ]
    },
    {
      "cell_type": "code",
      "metadata": {
        "colab": {
          "base_uri": "https://localhost:8080/"
        },
        "id": "ETpYNMPs1qg3",
        "outputId": "cc04c0ac-47e5-45b9-9b0d-790a9ef7629f"
      },
      "source": [
        "a = {'a':'apple', 'b':'bus', 'c':'car'}\n",
        "b = {'a':'ant', 'd':'dog', 'e':'egg'}\n",
        "\n",
        "a. update(b)\n",
        "print(a)"
      ],
      "execution_count": null,
      "outputs": [
        {
          "output_type": "stream",
          "name": "stdout",
          "text": [
            "{'a': 'ant', 'b': 'bus', 'c': 'car', 'd': 'dog', 'e': 'egg'}\n"
          ]
        }
      ]
    },
    {
      "cell_type": "markdown",
      "metadata": {
        "id": "G5NlVhLE2LBX"
      },
      "source": [
        "### **key삭제**\n",
        "- del 키워드\n",
        "- pop 함수 이용"
      ]
    },
    {
      "cell_type": "code",
      "metadata": {
        "colab": {
          "base_uri": "https://localhost:8080/"
        },
        "id": "ZniB9-QE2Qp4",
        "outputId": "f0be7d7e-75f3-4509-a077-6308f416e29c"
      },
      "source": [
        "a = {'a':1, 'b':2, 'c':3}\n",
        "print(a)\n",
        "\n",
        "d = a.pop('b')\n",
        "print(a)\n",
        "print(d)\n",
        "\n",
        "del a['c']\n",
        "print(a)"
      ],
      "execution_count": null,
      "outputs": [
        {
          "output_type": "stream",
          "name": "stdout",
          "text": [
            "{'a': 1, 'b': 2, 'c': 3}\n",
            "{'a': 1, 'c': 3}\n",
            "2\n"
          ]
        }
      ]
    },
    {
      "cell_type": "markdown",
      "metadata": {
        "id": "YqQa3qNv3TX4"
      },
      "source": [
        "##**clear**\n",
        "- 딕셔너리 값을 모두 초기화"
      ]
    },
    {
      "cell_type": "code",
      "metadata": {
        "colab": {
          "base_uri": "https://localhost:8080/"
        },
        "id": "ISK8QyHG3Xp_",
        "outputId": "a2768e1c-267b-4db0-ea44-69d3dec33202"
      },
      "source": [
        "a['add']=3\n",
        "print(a)\n",
        "a.clear()\n",
        "print(a)"
      ],
      "execution_count": null,
      "outputs": [
        {
          "output_type": "stream",
          "name": "stdout",
          "text": [
            "{'a': 1, 'c': 3, 'add': 3}\n",
            "{}\n"
          ]
        }
      ]
    },
    {
      "cell_type": "markdown",
      "metadata": {
        "id": "wkxwRz_87RsI"
      },
      "source": [
        "###**in**\n",
        "- key 값 존재 확인"
      ]
    },
    {
      "cell_type": "code",
      "metadata": {
        "colab": {
          "base_uri": "https://localhost:8080/"
        },
        "id": "FNAE8x6C88Vq",
        "outputId": "4136f873-4d9d-4d33-927e-b0a0b8175262"
      },
      "source": [
        "a = {'a':1, 'b':2, 'c':3}\n",
        "print(2 in a)\n",
        "print('a' in a)"
      ],
      "execution_count": null,
      "outputs": [
        {
          "output_type": "stream",
          "name": "stdout",
          "text": [
            "False\n",
            "True\n"
          ]
        }
      ]
    },
    {
      "cell_type": "markdown",
      "metadata": {
        "id": "QAQBVgE29tY4"
      },
      "source": [
        "- dict[key]로 접근, 키가 없는경우에는 에러\n",
        "- .get()함수로 접근,키가 없는 경우에도 프로그램 실행 -> None 반환"
      ]
    },
    {
      "cell_type": "code",
      "metadata": {
        "colab": {
          "base_uri": "https://localhost:8080/"
        },
        "id": "VLWyJPga9Vgo",
        "outputId": "a207ff3b-aa7c-476d-a94a-2e690cdab19b"
      },
      "source": [
        "a = {'a':1, 'b':2, 'c':3}\n",
        "#print(a['d'])\n",
        "print(a.get('d'))"
      ],
      "execution_count": null,
      "outputs": [
        {
          "output_type": "stream",
          "name": "stdout",
          "text": [
            "None\n"
          ]
        }
      ]
    },
    {
      "cell_type": "markdown",
      "metadata": {
        "id": "AdXfNSFM-6uJ"
      },
      "source": [
        "#### **모든 keys,values 접근**\n",
        "- key() - 키만 반환\n",
        "- values() - 값만 반환\n",
        "- items() - 키,값의 튜플을 반환"
      ]
    },
    {
      "cell_type": "code",
      "metadata": {
        "colab": {
          "base_uri": "https://localhost:8080/"
        },
        "id": "xh0LOtCp_Q9Q",
        "outputId": "3af57058-6fe7-4b9c-fbfb-6851ab27157e"
      },
      "source": [
        "a = {'a':1, 'b':2, 'c':3}\n",
        "print(a)\n",
        "print(a.keys())\n",
        "print(a.values())\n",
        "print(a.items())"
      ],
      "execution_count": null,
      "outputs": [
        {
          "output_type": "stream",
          "name": "stdout",
          "text": [
            "{'a': 1, 'b': 2, 'c': 3}\n",
            "dict_keys(['a', 'b', 'c'])\n",
            "dict_values([1, 2, 3])\n",
            "dict_items([('a', 1), ('b', 2), ('c', 3)])\n"
          ]
        }
      ]
    },
    {
      "cell_type": "markdown",
      "metadata": {
        "id": "5uopAdNZAEHR"
      },
      "source": [
        "### **set**\n",
        "- dictionary에서 key만 활용한 데이터 구조\n",
        "- 중복이 허용되지 않는 구조"
      ]
    },
    {
      "cell_type": "code",
      "metadata": {
        "colab": {
          "base_uri": "https://localhost:8080/"
        },
        "id": "4eQY2HbdALC5",
        "outputId": "fd7be3b6-fe13-4e98-cd94-472bb248b3a2"
      },
      "source": [
        "a = {1,1,1,2,5,2,2,2,6,2}\n",
        "print(a)\n",
        "\n",
        "b = set(a)\n",
        "print(b)"
      ],
      "execution_count": null,
      "outputs": [
        {
          "output_type": "stream",
          "name": "stdout",
          "text": [
            "{1, 2, 5, 6}\n",
            "{1, 2, 5, 6}\n"
          ]
        }
      ]
    },
    {
      "cell_type": "code",
      "metadata": {
        "colab": {
          "base_uri": "https://localhost:8080/"
        },
        "id": "4uJ02226BiSq",
        "outputId": "9cc7e9c1-d282-46ac-b0a6-3cd2286310b6"
      },
      "source": [
        "a = {1,2,3}\n",
        "b = {2,3,4}\n",
        "\n",
        "print(a.union(b)) #합집합\n",
        "print(a.intersection(b)) #교집합\n",
        "print(a.difference(b)) #차집합"
      ],
      "execution_count": null,
      "outputs": [
        {
          "output_type": "stream",
          "name": "stdout",
          "text": [
            "{1, 2, 3, 4}\n"
          ]
        }
      ]
    }
  ]
}