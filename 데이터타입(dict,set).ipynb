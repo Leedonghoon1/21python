{
  "nbformat": 4,
  "nbformat_minor": 0,
  "metadata": {
    "colab": {
      "name": "데이터타입(dict,set).ipynb",
      "provenance": [],
      "authorship_tag": "ABX9TyM1eYlj9/EPeHrMfSMwivGE",
      "include_colab_link": true
    },
    "kernelspec": {
      "name": "python3",
      "display_name": "Python 3"
    },
    "language_info": {
      "name": "python"
    }
  },
  "cells": [
    {
      "cell_type": "markdown",
      "metadata": {
        "id": "view-in-github",
        "colab_type": "text"
      },
      "source": [
        "<a href=\"https://colab.research.google.com/github/Leedonghoon1/21python/blob/main/%EB%8D%B0%EC%9D%B4%ED%84%B0%ED%83%80%EC%9E%85(dict%2Cset).ipynb\" target=\"_parent\"><img src=\"https://colab.research.google.com/assets/colab-badge.svg\" alt=\"Open In Colab\"/></a>"
      ]
    },
    {
      "cell_type": "markdown",
      "metadata": {
        "id": "H3kiLDMptmMq"
      },
      "source": [
        "### **학습목표**\n",
        "- dictionaty.set에 대해 이해하기"
      ]
    },
    {
      "cell_type": "markdown",
      "metadata": {
        "id": "qUCGqDKEuG4i"
      },
      "source": [
        "**dictionary**\n",
        "- 키와 값을 갖는 데이터 구조\n",
        "- 키는 내부적으로hash값으로 저장"
      ]
    },
    {
      "cell_type": "code",
      "metadata": {
        "colab": {
          "base_uri": "https://localhost:8080/"
        },
        "id": "oVUvgq-yuNyV",
        "outputId": "4bd6df81-f7ba-4e8a-9e7c-4bbef2c842e1"
      },
      "source": [
        "a = {'korea' : 'seoul',\n",
        "     'canada':'ottawa',\n",
        "     'usa':'washington D.C'}\n",
        "d = {0:1, 1:6, 7:9, 8:10}\n",
        "\n",
        "print(a)\n",
        "print(a['korea'])\n",
        "print(d[1])\n",
        "print(d[0])"
      ],
      "execution_count": 3,
      "outputs": [
        {
          "output_type": "stream",
          "name": "stdout",
          "text": [
            "{'korea': 'seoul', 'canada': 'ottawa', 'usa': 'washington D.C'}\n",
            "seoul\n",
            "6\n",
            "1\n"
          ]
        }
      ]
    },
    {
      "cell_type": "markdown",
      "metadata": {
        "id": "Efm8ljE4wAKa"
      },
      "source": [
        "### **항목 추가 및 변경**\n",
        "- 기존의 키가 존제하면, 새로운 값으로 업데이트\n",
        "- 기준의 키가 없다면, 새로운 키값으로 생성"
      ]
    },
    {
      "cell_type": "code",
      "metadata": {
        "colab": {
          "base_uri": "https://localhost:8080/"
        },
        "id": "eDcwGh5iwOUK",
        "outputId": "4967d011-8aa8-4be3-f557-0c79418ce7cf"
      },
      "source": [
        "print(a)\n",
        "a['japan'] = 'tokyo'\n",
        "print(a)\n",
        "a['japan'] = 'oaska'\n",
        "print(a)\n",
        "a['china'] = 'beijng'\n",
        "print(a)"
      ],
      "execution_count": 7,
      "outputs": [
        {
          "output_type": "stream",
          "name": "stdout",
          "text": [
            "{'korea': 'seoul', 'canada': 'ottawa', 'usa': 'washington D.C', 'japan': 'oaska'}\n",
            "{'korea': 'seoul', 'canada': 'ottawa', 'usa': 'washington D.C', 'japan': 'tokyo'}\n",
            "{'korea': 'seoul', 'canada': 'ottawa', 'usa': 'washington D.C', 'japan': 'oaska'}\n",
            "{'korea': 'seoul', 'canada': 'ottawa', 'usa': 'washington D.C', 'japan': 'oaska', 'china': 'beijng'}\n"
          ]
        }
      ]
    },
    {
      "cell_type": "markdown",
      "metadata": {
        "id": "LoFgOR7SxFjC"
      },
      "source": [
        "- update()\n",
        "- 두 딕셔너리를 병합\n",
        "- 겹치는 키가 있다면, 전할되는 값으로 업데이트된다."
      ]
    },
    {
      "cell_type": "code",
      "metadata": {
        "colab": {
          "base_uri": "https://localhost:8080/"
        },
        "id": "GpMSabfOxPdo",
        "outputId": "416b831f-5404-4001-d09f-8990868669cd"
      },
      "source": [
        "a = {'a':'apple', 'd' : 'danana', 'c' : 'car'}\n",
        "b = {'b' : 'bus', 'c' : 'caramel', 'd' : 'dynamite', 'e' : 'education'}\n",
        "\n",
        "a.update(b) #a와 b의 병합\n",
        "print(a)"
      ],
      "execution_count": 11,
      "outputs": [
        {
          "output_type": "stream",
          "name": "stdout",
          "text": [
            "{'a': 'apple', 'd': 'dynamite', 'c': 'caramel', 'b': 'bus', 'e': 'education'}\n"
          ]
        }
      ]
    },
    {
      "cell_type": "markdown",
      "metadata": {
        "id": "PWqKPKT05b-G"
      },
      "source": [
        "key삭제\n",
        "- del키워드\n",
        "- pop 함수 이용\n"
      ]
    },
    {
      "cell_type": "code",
      "metadata": {
        "colab": {
          "base_uri": "https://localhost:8080/"
        },
        "id": "dvZ6IXhf5hVT",
        "outputId": "de174cc6-01ef-470b-feea-a8c4bf5faf16"
      },
      "source": [
        "a = {'a':1, 'b':2 , 'c':3}\n",
        "print(a)\n",
        "\n",
        "del a['a']\n",
        "print(a)\n",
        "\n",
        "c = a.pop('c')\n",
        "print(c)"
      ],
      "execution_count": 30,
      "outputs": [
        {
          "output_type": "stream",
          "name": "stdout",
          "text": [
            "{'a': 1, 'b': 2, 'c': 3}\n",
            "{'b': 2, 'c': 3}\n",
            "3\n"
          ]
        }
      ]
    },
    {
      "cell_type": "markdown",
      "metadata": {
        "id": "tDLlRTmw9Tul"
      },
      "source": [
        "clear()\n",
        "- 딕셔너리 값을 모두 초기화"
      ]
    },
    {
      "cell_type": "code",
      "metadata": {
        "colab": {
          "base_uri": "https://localhost:8080/"
        },
        "id": "kgGJZO9k9aLy",
        "outputId": "ab8e8e1d-8cf6-410e-b7a6-2c3a831e0b46"
      },
      "source": [
        "a = {'a':1, 'b':2 , 'c':3}\n",
        "\n",
        "a['add'] = 4\n",
        "print(a)\n",
        "a.clear()\n",
        "print(a)"
      ],
      "execution_count": 22,
      "outputs": [
        {
          "output_type": "stream",
          "name": "stdout",
          "text": [
            "{'a': 1, 'b': 2, 'c': 3, 'add': 4}\n",
            "{}\n"
          ]
        }
      ]
    },
    {
      "cell_type": "markdown",
      "metadata": {
        "id": "plT0QV5y9d4E"
      },
      "source": [
        "in\n",
        "- key 값의 존재를 확인"
      ]
    },
    {
      "cell_type": "code",
      "metadata": {
        "colab": {
          "base_uri": "https://localhost:8080/"
        },
        "id": "qx8cDxlA901m",
        "outputId": "e0a3e210-48f6-486c-b043-59c2f7d10489"
      },
      "source": [
        "a = {'a':1, 'b':2 , 'c':3}\n",
        "print(2 in a)\n",
        "print('a' in a)"
      ],
      "execution_count": 26,
      "outputs": [
        {
          "output_type": "stream",
          "name": "stdout",
          "text": [
            "False\n",
            "True\n"
          ]
        }
      ]
    },
    {
      "cell_type": "code",
      "metadata": {
        "id": "1NVe44Gz983k"
      },
      "source": [
        ""
      ],
      "execution_count": null,
      "outputs": []
    },
    {
      "cell_type": "markdown",
      "metadata": {
        "id": "NkfZOYSJ-UoN"
      },
      "source": [
        "- dict [key] 로 접근, 키가 존재하지 않을 경우에러\n",
        "- .get() 함수로 접근해서 키가 없는경우에도 프로그램을 실행 -> None"
      ]
    },
    {
      "cell_type": "code",
      "metadata": {
        "colab": {
          "base_uri": "https://localhost:8080/"
        },
        "id": "44Aa6rRW-hN0",
        "outputId": "268fbb0a-b855-407c-bc4b-220aa1e762d0"
      },
      "source": [
        "a = {'a':1, 'b':2 , 'c':3}\n",
        "\n",
        "print(a['a'])\n",
        "print(a.get('d'))"
      ],
      "execution_count": 27,
      "outputs": [
        {
          "output_type": "stream",
          "name": "stdout",
          "text": [
            "1\n",
            "None\n"
          ]
        }
      ]
    },
    {
      "cell_type": "markdown",
      "metadata": {
        "id": "bXBBdvq2_DFd"
      },
      "source": [
        "모든 key와 값에 접근\n",
        "\n",
        "- keys() : 키만 반환\n",
        "-  values() : 값만 반환\n",
        "- items() : 키와 값의 튜플을 반환"
      ]
    },
    {
      "cell_type": "code",
      "metadata": {
        "colab": {
          "base_uri": "https://localhost:8080/"
        },
        "id": "cgEJAE7K_WE2",
        "outputId": "ef85aa7a-1685-4af8-e8d7-d90ec86c7168"
      },
      "source": [
        "a = {'a':1, 'b':2 , 'c':3}\n",
        "print(a)\n",
        "print(list(a.keys()))\n",
        "print(list(a.values()))\n",
        "print(list(a.items()))"
      ],
      "execution_count": 34,
      "outputs": [
        {
          "output_type": "stream",
          "name": "stdout",
          "text": [
            "{'a': 1, 'b': 2, 'c': 3}\n",
            "['a', 'b', 'c']\n",
            "[1, 2, 3]\n",
            "[('a', 1), ('b', 2), ('c', 3)]\n"
          ]
        }
      ]
    },
    {
      "cell_type": "markdown",
      "metadata": {
        "id": "gXMK87jDGIi0"
      },
      "source": [
        "set\n",
        "- dictionary에서 key만 활용한 데이터 구조\n",
        "- 중복이 허용되지 않는 구조"
      ]
    },
    {
      "cell_type": "code",
      "metadata": {
        "colab": {
          "base_uri": "https://localhost:8080/"
        },
        "id": "9hBoT3cGGYU0",
        "outputId": "9953d325-51bd-4a8f-cf34-527e15aaf676"
      },
      "source": [
        "a = {5 , 2,3,4,6,4,1,2,3}\n",
        "print(a)"
      ],
      "execution_count": 38,
      "outputs": [
        {
          "output_type": "stream",
          "name": "stdout",
          "text": [
            "{1, 2, 3, 4, 5, 6}\n"
          ]
        }
      ]
    },
    {
      "cell_type": "code",
      "metadata": {
        "colab": {
          "base_uri": "https://localhost:8080/"
        },
        "id": "QYyNS-64Geus",
        "outputId": "4262be41-692b-4b1d-adbb-9f4a23728a29"
      },
      "source": [
        "#리스트를 set으로 변경\n",
        "a = [5 , 2,3,4,6,4,1,2,3]\n",
        "print(a)\n",
        "\n",
        "b = set(a)\n",
        "print(b)"
      ],
      "execution_count": 41,
      "outputs": [
        {
          "output_type": "stream",
          "name": "stdout",
          "text": [
            "[5, 2, 3, 4, 6, 4, 1, 2, 3]\n",
            "{1, 2, 3, 4, 5, 6}\n"
          ]
        }
      ]
    },
    {
      "cell_type": "code",
      "metadata": {
        "colab": {
          "base_uri": "https://localhost:8080/"
        },
        "id": "aeTNXXa_GxCD",
        "outputId": "7c1adbd8-3261-49fb-99e2-daef01255562"
      },
      "source": [
        "a = {1,2,3}\n",
        "b = {2,3,4}\n",
        "c = a.union(b) #합집함\n",
        "print(c)\n",
        "d = a.intersection(b) #교집합\n",
        "print(d)\n",
        "e = a.difference(b)  #A-B 차집합\n",
        "print(e)"
      ],
      "execution_count": 47,
      "outputs": [
        {
          "output_type": "stream",
          "name": "stdout",
          "text": [
            "{1, 2, 3, 4}\n",
            "{2, 3}\n",
            "{1}\n"
          ]
        }
      ]
    },
    {
      "cell_type": "code",
      "metadata": {
        "id": "aPRkjAraIIWl"
      },
      "source": [
        ""
      ],
      "execution_count": 42,
      "outputs": []
    }
  ]
}