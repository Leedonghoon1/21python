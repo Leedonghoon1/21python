{
  "nbformat": 4,
  "nbformat_minor": 0,
  "metadata": {
    "colab": {
      "name": "Untitled0.ipynb",
      "provenance": [],
      "authorship_tag": "ABX9TyMQuR1HYWOFv4VZrP0/w+iN",
      "include_colab_link": true
    },
    "kernelspec": {
      "name": "python3",
      "display_name": "Python 3"
    },
    "language_info": {
      "name": "python"
    }
  },
  "cells": [
    {
      "cell_type": "markdown",
      "metadata": {
        "id": "view-in-github",
        "colab_type": "text"
      },
      "source": [
        "<a href=\"https://colab.research.google.com/github/Leedonghoon1/21python/blob/main/Untitled0.ipynb\" target=\"_parent\"><img src=\"https://colab.research.google.com/assets/colab-badge.svg\" alt=\"Open In Colab\"/></a>"
      ]
    },
    {
      "cell_type": "markdown",
      "metadata": {
        "id": "CTyAqtX-b0zH"
      },
      "source": [
        "## = 대입 연산자\n",
        "- 오른쪽 수식이나 값을 계산한 후 왼쪽에 명시된 변수에 해당 값을 대입\n",
        "- 변수는 해당 값을 가지게 된다"
      ]
    },
    {
      "cell_type": "code",
      "metadata": {
        "id": "YDRMPvwncZCn"
      },
      "source": [
        "a = 10 #int\n",
        "b = 11.4 #flaot"
      ],
      "execution_count": null,
      "outputs": []
    },
    {
      "cell_type": "markdown",
      "metadata": {
        "id": "XJ2GCJYqcz0Q"
      },
      "source": [
        "## **주석**\n",
        "- 코드에서 #으로 시작하는 뒷부분\n",
        "- python에서는 소스코드를 실행할때 #을 만나면 무시\n",
        "- 개발자(사람)이 보기 위한 용도로 사용"
      ]
    },
    {
      "cell_type": "code",
      "metadata": {
        "id": "FU-3vNjzdGyf"
      },
      "source": [
        "# this line is very important\n",
        "# so don't delete those line\n",
        "\n",
        "math = 76"
      ],
      "execution_count": null,
      "outputs": []
    },
    {
      "cell_type": "markdown",
      "metadata": {
        "id": "51dB1Om1eaqH"
      },
      "source": [
        "## **변수 값 확인법**\n",
        "- print() 함수 사용\n",
        "- 코드에 마지막에 변수 값을 위치시킨후 실행"
      ]
    },
    {
      "cell_type": "code",
      "metadata": {
        "colab": {
          "base_uri": "https://localhost:8080/"
        },
        "id": "W3pU0p2Eec4O",
        "outputId": "93e94d8b-6c86-45ec-891f-663f22fdf59c"
      },
      "source": [
        "a = 10\n",
        "b =11.4\n",
        "a\n",
        "b\n",
        "print(a)\n",
        "print(a,b)"
      ],
      "execution_count": null,
      "outputs": [
        {
          "output_type": "stream",
          "text": [
            "10\n",
            "10 11.4\n"
          ],
          "name": "stdout"
        }
      ]
    },
    {
      "cell_type": "markdown",
      "metadata": {
        "id": "aw5_yh5SgOF4"
      },
      "source": [
        "### ***print 함수**\n",
        "- 함수란 특정 기능을 반복적으로 호출하여 사용가능한 코드 블럭\n",
        "- ,로 여러 변수를 한줄에 출력\n",
        "- 기본적으로 한칸 띄어쓰기 후 출력"
      ]
    },
    {
      "cell_type": "code",
      "metadata": {
        "colab": {
          "base_uri": "https://localhost:8080/"
        },
        "id": "tnbpimXwgoCc",
        "outputId": "6fd15dbf-a4f7-4de6-d9f1-460dce2e2f1b"
      },
      "source": [
        "print(a,b)\n",
        "print(a, 10,200, b)\n",
        "print(\"1교시 python\")"
      ],
      "execution_count": null,
      "outputs": [
        {
          "output_type": "stream",
          "text": [
            "10 11.4\n",
            "10 10 200 11.4\n",
            "1교시 python\n"
          ],
          "name": "stdout"
        }
      ]
    },
    {
      "cell_type": "markdown",
      "metadata": {
        "id": "L9FUPRLmhNMz"
      },
      "source": [
        "**print 함수 설정**\n",
        "- sep(구분자): 각 변수 사에서 구분해주는 역할\n",
        "- end: 마지막에 출력할 문자열"
      ]
    },
    {
      "cell_type": "code",
      "metadata": {
        "colab": {
          "base_uri": "https://localhost:8080/"
        },
        "id": "0pJHOVEohmSX",
        "outputId": "f43bfdfd-7560-47d4-9e91-e9251c3a3b8e"
      },
      "source": [
        "print(a,b, 200, \"동훈\", sep='#', end='!!')"
      ],
      "execution_count": null,
      "outputs": [
        {
          "output_type": "stream",
          "text": [
            "10#11.4#200#동훈!!"
          ],
          "name": "stdout"
        }
      ]
    },
    {
      "cell_type": "markdown",
      "metadata": {
        "id": "axmSPnbl22rb"
      },
      "source": [
        "##**변수 이름 규칙**\n",
        "- 시작을 영문 대소문자._ 구성 가능\n",
        "- BUT 숫자는 불가능\n",
        "- 일반적으로 변수를 표현할 때 정확하고 간결ㅇ한 이름을 사용하는 것이 원칙 "
      ]
    },
    {
      "cell_type": "code",
      "metadata": {
        "id": "Ej-gSNZs3XKK"
      },
      "source": [
        "abcABC = 1000\n",
        "___abc = 100\n",
        "ACBV = 100\n",
        "\n",
        "###4ever = 10"
      ],
      "execution_count": 1,
      "outputs": []
    },
    {
      "cell_type": "markdown",
      "metadata": {
        "id": "rSJdWQRU3p4r"
      },
      "source": [
        "### **예약어(키워드)**\n",
        "\n",
        "- python에서 미리 선점해서 사용중인 키워드\n",
        "- import, for, while, if, elif 등..."
      ]
    },
    {
      "cell_type": "code",
      "metadata": {
        "id": "TufAjjSq34th"
      },
      "source": [
        "_for = 100\n",
        "###for= 120"
      ],
      "execution_count": 3,
      "outputs": []
    },
    {
      "cell_type": "markdown",
      "metadata": {
        "id": "Ncr7xv0X4KoB"
      },
      "source": [
        "##** 기본 데이터 타입***\n",
        "\n",
        "- 정수(int)\n",
        "- 실수(float)\n",
        "- 문자형(str)\n",
        "- 불리언(boolean)\n",
        "\n",
        "**type() 함수**\n",
        "- 해당 변수, 값의 타입(type)을 알고자 할 때 사용"
      ]
    },
    {
      "cell_type": "code",
      "metadata": {
        "colab": {
          "base_uri": "https://localhost:8080/"
        },
        "id": "V3OzXz-34o8B",
        "outputId": "e3649f3f-6105-481e-d197-c2c39c1deea0"
      },
      "source": [
        "a = 100\n",
        "b = 11.4\n",
        "c = \"오늘은 버거 와요\"\n",
        "d = a>b\n",
        "\n",
        "print(type(a), a, type(b), b, type(c), c, type(d), d)"
      ],
      "execution_count": 10,
      "outputs": [
        {
          "output_type": "stream",
          "text": [
            "<class 'int'> 100 <class 'float'> 11.4 <class 'str'> 오늘은 버거 와요 <class 'bool'> True\n"
          ],
          "name": "stdout"
        }
      ]
    },
    {
      "cell_type": "markdown",
      "metadata": {
        "id": "wjoU7q356dcz"
      },
      "source": [
        "### **None**\n",
        "\n",
        "- 아무런 값을 갖지 않을때 사용\n",
        "- 일반적으로 변수가 초기값을 갖지 않게 하기 위해 사용\n",
        "- NULL과 같은의미"
      ]
    },
    {
      "cell_type": "code",
      "metadata": {
        "colab": {
          "base_uri": "https://localhost:8080/"
        },
        "id": "8j-5M9GC7FLb",
        "outputId": "312985c1-9ee8-4742-a645-f4292422a460"
      },
      "source": [
        "c = None\n",
        "print(c)"
      ],
      "execution_count": 11,
      "outputs": [
        {
          "output_type": "stream",
          "text": [
            "None\n"
          ],
          "name": "stdout"
        }
      ]
    },
    {
      "cell_type": "markdown",
      "metadata": {
        "id": "n2T0hMaz7gFz"
      },
      "source": [
        "##**비교연산자**\n",
        "\n",
        "- 프로그래밍에서 비교를 할경우 사용한다.\n",
        "- <=.>= (작거나 같다, 크거나 같다)\n",
        "- == (같다)\n",
        "- != (같지 않다.)\n",
        "- 비교 연산자 결과는 Bool(참과 거짓)"
      ]
    },
    {
      "cell_type": "code",
      "metadata": {
        "colab": {
          "base_uri": "https://localhost:8080/"
        },
        "id": "sRGniOIz8GUh",
        "outputId": "290d2beb-057c-4760-85ce-d4bb0a873104"
      },
      "source": [
        "a =5\n",
        "b =4\n",
        "\n",
        "print(a>b) #True\n",
        "print(a<b) #False\n",
        "print(a==b) #False\n",
        "print(a>=b) #True\n",
        "print(a<=b) #Talse\n",
        "print(a!=b) #True"
      ],
      "execution_count": 13,
      "outputs": [
        {
          "output_type": "stream",
          "text": [
            "True\n",
            "False\n",
            "False\n",
            "True\n",
            "False\n",
            "True\n"
          ],
          "name": "stdout"
        }
      ]
    },
    {
      "cell_type": "markdown",
      "metadata": {
        "id": "tJpr5Ooz9Ai8"
      },
      "source": [
        "## **기본연산자**"
      ]
    },
    {
      "cell_type": "code",
      "metadata": {
        "colab": {
          "base_uri": "https://localhost:8080/"
        },
        "id": "1Nx9KY-oBW64",
        "outputId": "216844fd-b123-4c4e-f22d-f1d44584fcf8"
      },
      "source": [
        "print(a+b) # a=5, b-4\n",
        "print(a-b)\n",
        "print(a*b)\n",
        "print(a/b)\n",
        "print(a//b)\n",
        "print(a%b)\n",
        "print(a**b) #5의 4제곱"
      ],
      "execution_count": 16,
      "outputs": [
        {
          "output_type": "stream",
          "text": [
            "9\n",
            "1\n",
            "20\n",
            "1.25\n",
            "1\n",
            "1\n",
            "625\n"
          ],
          "name": "stdout"
        }
      ]
    },
    {
      "cell_type": "markdown",
      "metadata": {
        "id": "eWr-fc87CHtd"
      },
      "source": [
        "##**연산자 우선순위**\n",
        "- 기본적으로 수학의 연산자와 동일\n",
        "- 강제로 연산을 먼저하기 위해서는 ()를 사용"
      ]
    },
    {
      "cell_type": "code",
      "metadata": {
        "colab": {
          "base_uri": "https://localhost:8080/"
        },
        "id": "6quwNch2CSKZ",
        "outputId": "9f4ba22a-7543-4ef3-ca93-465f307a20cc"
      },
      "source": [
        "print(a+b*2)#a=5, b=4\n",
        "print((a+b)*2)\n",
        "print(2* a**3)"
      ],
      "execution_count": 17,
      "outputs": [
        {
          "output_type": "stream",
          "text": [
            "13\n",
            "18\n",
            "250\n"
          ],
          "name": "stdout"
        }
      ]
    }
  ]
}