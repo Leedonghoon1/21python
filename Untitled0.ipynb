{
  "nbformat": 4,
  "nbformat_minor": 0,
  "metadata": {
    "colab": {
      "name": "Untitled0.ipynb",
      "provenance": [],
      "authorship_tag": "ABX9TyMm+QmemZp1oT0MwSqcUrC3",
      "include_colab_link": true
    },
    "kernelspec": {
      "name": "python3",
      "display_name": "Python 3"
    },
    "language_info": {
      "name": "python"
    }
  },
  "cells": [
    {
      "cell_type": "markdown",
      "metadata": {
        "id": "view-in-github",
        "colab_type": "text"
      },
      "source": [
        "<a href=\"https://colab.research.google.com/github/Leedonghoon1/21python/blob/main/Untitled0.ipynb\" target=\"_parent\"><img src=\"https://colab.research.google.com/assets/colab-badge.svg\" alt=\"Open In Colab\"/></a>"
      ]
    },
    {
      "cell_type": "markdown",
      "metadata": {
        "id": "CTyAqtX-b0zH"
      },
      "source": [
        "## = 대입 연산자\n",
        "- 오른쪽 수식이나 값을 계산한 후 왼쪽에 명시된 변수에 해당 값을 대입\n",
        "- 변수는 해당 값을 가지게 된다"
      ]
    },
    {
      "cell_type": "code",
      "metadata": {
        "id": "YDRMPvwncZCn"
      },
      "source": [
        "a = 10 #int\n",
        "b = 11.4 #flaot"
      ],
      "execution_count": 3,
      "outputs": []
    },
    {
      "cell_type": "markdown",
      "metadata": {
        "id": "XJ2GCJYqcz0Q"
      },
      "source": [
        "## **주석**\n",
        "- 코드에서 #으로 시작하는 뒷부분\n",
        "- python에서는 소스코드를 실행할때 #을 만나면 무시\n",
        "- 개발자(사람)이 보기 위한 용도로 사용"
      ]
    },
    {
      "cell_type": "code",
      "metadata": {
        "id": "FU-3vNjzdGyf"
      },
      "source": [
        "# this line is very important\n",
        "# so don't delete those line\n",
        "\n",
        "math = 76"
      ],
      "execution_count": 4,
      "outputs": []
    },
    {
      "cell_type": "markdown",
      "metadata": {
        "id": "51dB1Om1eaqH"
      },
      "source": [
        "## **변수 값 확인법**\n",
        "- print() 함수 사용\n",
        "- 코드에 마지막에 변수 값을 위치시킨후 실행"
      ]
    },
    {
      "cell_type": "code",
      "metadata": {
        "colab": {
          "base_uri": "https://localhost:8080/"
        },
        "id": "W3pU0p2Eec4O",
        "outputId": "93e94d8b-6c86-45ec-891f-663f22fdf59c"
      },
      "source": [
        "a = 10\n",
        "b =11.4\n",
        "a\n",
        "b\n",
        "print(a)\n",
        "print(a,b)"
      ],
      "execution_count": 8,
      "outputs": [
        {
          "output_type": "stream",
          "text": [
            "10\n",
            "10 11.4\n"
          ],
          "name": "stdout"
        }
      ]
    },
    {
      "cell_type": "markdown",
      "metadata": {
        "id": "aw5_yh5SgOF4"
      },
      "source": [
        "### ***print 함수**\n",
        "- 함수란 특정 기능을 반복적으로 호출하여 사용가능한 코드 블럭\n",
        "- ,로 여러 변수를 한줄에 출력\n",
        "- 기본적으로 한칸 띄어쓰기 후 출력"
      ]
    },
    {
      "cell_type": "code",
      "metadata": {
        "colab": {
          "base_uri": "https://localhost:8080/"
        },
        "id": "tnbpimXwgoCc",
        "outputId": "6fd15dbf-a4f7-4de6-d9f1-460dce2e2f1b"
      },
      "source": [
        "print(a,b)\n",
        "print(a, 10,200, b)\n",
        "print(\"1교시 python\")"
      ],
      "execution_count": 12,
      "outputs": [
        {
          "output_type": "stream",
          "text": [
            "10 11.4\n",
            "10 10 200 11.4\n",
            "1교시 python\n"
          ],
          "name": "stdout"
        }
      ]
    },
    {
      "cell_type": "markdown",
      "metadata": {
        "id": "L9FUPRLmhNMz"
      },
      "source": [
        "**print 함수 설정**\n",
        "- sep(구분자): 각 변수 사에서 구분해주는 역할\n",
        "- end: 마지막에 출력할 문자열"
      ]
    },
    {
      "cell_type": "code",
      "metadata": {
        "colab": {
          "base_uri": "https://localhost:8080/"
        },
        "id": "0pJHOVEohmSX",
        "outputId": "f43bfdfd-7560-47d4-9e91-e9251c3a3b8e"
      },
      "source": [
        "print(a,b, 200, \"동훈\", sep='#', end='!!')"
      ],
      "execution_count": 13,
      "outputs": [
        {
          "output_type": "stream",
          "text": [
            "10#11.4#200#동훈!!"
          ],
          "name": "stdout"
        }
      ]
    },
    {
      "cell_type": "code",
      "metadata": {
        "id": "8P3VvSxNhvpf"
      },
      "source": [
        ""
      ],
      "execution_count": null,
      "outputs": []
    }
  ]
}